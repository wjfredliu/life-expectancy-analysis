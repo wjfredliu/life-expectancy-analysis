{
 "cells": [
  {
   "cell_type": "code",
   "execution_count": 11,
   "id": "149300a8",
   "metadata": {},
   "outputs": [],
   "source": [
    "import warnings \n",
    "warnings.filterwarnings('ignore')"
   ]
  },
  {
   "cell_type": "code",
   "execution_count": 12,
   "id": "569cfac8",
   "metadata": {},
   "outputs": [],
   "source": [
    "import pandas as pd\n",
    "import numpy as np\n",
    "import seaborn as sns\n",
    "import matplotlib.pyplot as plt\n",
    "import skimpy as skim\n",
    "import sklearn as sk\n",
    "from sklearn import metrics\n",
    "from sklearn import impute\n",
    "from sklearn.impute import KNNImputer\n",
    "from sklearn.metrics import mean_squared_error\n",
    "from sklearn.model_selection import cross_val_score,train_test_split\n",
    "from sklearn.metrics import mean_squared_error,r2_score,roc_curve,auc,precision_recall_curve\n",
    "from sklearn.model_selection import KFold\n",
    "from sklearn.tree import DecisionTreeRegressor,DecisionTreeClassifier\n",
    "from sklearn.model_selection import GridSearchCV, ParameterGrid, StratifiedKFold\n",
    "from sklearn.ensemble import VotingRegressor, VotingClassifier, StackingRegressor, StackingClassifier, GradientBoostingRegressor,GradientBoostingClassifier, BaggingRegressor,BaggingClassifier,RandomForestRegressor,RandomForestClassifier,AdaBoostRegressor,AdaBoostClassifier\n",
    "from sklearn.linear_model import LinearRegression,LogisticRegression, LassoCV, RidgeCV, ElasticNetCV\n",
    "from sklearn.neighbors import KNeighborsRegressor\n",
    "import itertools as it\n",
    "import time as time\n",
    "import xgboost as xgb"
   ]
  },
  {
   "cell_type": "code",
   "execution_count": 5,
   "id": "dfb97ce6",
   "metadata": {},
   "outputs": [],
   "source": [
    "data = pd.read_csv('Life Expectancy Data.csv')\n",
    "data = skim.clean_columns(data)"
   ]
  },
  {
   "cell_type": "code",
   "execution_count": 6,
   "id": "26e56e64",
   "metadata": {},
   "outputs": [
    {
     "name": "stdout",
     "output_type": "stream",
     "text": [
      "              year  life_expectancy  adult_mortality  infant_deaths  \\\n",
      "count  2938.000000      2928.000000      2928.000000    2938.000000   \n",
      "mean   2007.518720        69.224932       164.796448      30.303948   \n",
      "std       4.613841         9.523867       124.292079     117.926501   \n",
      "min    2000.000000        36.300000         1.000000       0.000000   \n",
      "25%    2004.000000        63.100000        74.000000       0.000000   \n",
      "50%    2008.000000        72.100000       144.000000       3.000000   \n",
      "75%    2012.000000        75.700000       228.000000      22.000000   \n",
      "max    2015.000000        89.000000       723.000000    1800.000000   \n",
      "\n",
      "           alcohol  percentage_expenditure  hepatitis_b        measles  \\\n",
      "count  2744.000000             2938.000000  2385.000000    2938.000000   \n",
      "mean      4.602861              738.251295    80.940461    2419.592240   \n",
      "std       4.052413             1987.914858    25.070016   11467.272489   \n",
      "min       0.010000                0.000000     1.000000       0.000000   \n",
      "25%       0.877500                4.685343    77.000000       0.000000   \n",
      "50%       3.755000               64.912906    92.000000      17.000000   \n",
      "75%       7.702500              441.534144    97.000000     360.250000   \n",
      "max      17.870000            19479.911610    99.000000  212183.000000   \n",
      "\n",
      "               bmi  under_five_deaths        polio  total_expenditure  \\\n",
      "count  2904.000000        2938.000000  2919.000000         2712.00000   \n",
      "mean     38.321247          42.035739    82.550188            5.93819   \n",
      "std      20.044034         160.445548    23.428046            2.49832   \n",
      "min       1.000000           0.000000     3.000000            0.37000   \n",
      "25%      19.300000           0.000000    78.000000            4.26000   \n",
      "50%      43.500000           4.000000    93.000000            5.75500   \n",
      "75%      56.200000          28.000000    97.000000            7.49250   \n",
      "max      87.300000        2500.000000    99.000000           17.60000   \n",
      "\n",
      "        diphtheria     hiv_aids            gdp    population  \\\n",
      "count  2919.000000  2938.000000    2490.000000  2.286000e+03   \n",
      "mean     82.324084     1.742103    7483.158469  1.275338e+07   \n",
      "std      23.716912     5.077785   14270.169342  6.101210e+07   \n",
      "min       2.000000     0.100000       1.681350  3.400000e+01   \n",
      "25%      78.000000     0.100000     463.935626  1.957932e+05   \n",
      "50%      93.000000     0.100000    1766.947595  1.386542e+06   \n",
      "75%      97.000000     0.800000    5910.806335  7.420359e+06   \n",
      "max      99.000000    50.600000  119172.741800  1.293859e+09   \n",
      "\n",
      "       thinness_1_19_years  thinness_5_9_years  \\\n",
      "count          2904.000000         2904.000000   \n",
      "mean              4.839704            4.870317   \n",
      "std               4.420195            4.508882   \n",
      "min               0.100000            0.100000   \n",
      "25%               1.600000            1.500000   \n",
      "50%               3.300000            3.300000   \n",
      "75%               7.200000            7.200000   \n",
      "max              27.700000           28.600000   \n",
      "\n",
      "       income_composition_of_resources    schooling  \n",
      "count                      2771.000000  2775.000000  \n",
      "mean                          0.627551    11.992793  \n",
      "std                           0.210904     3.358920  \n",
      "min                           0.000000     0.000000  \n",
      "25%                           0.493000    10.100000  \n",
      "50%                           0.677000    12.300000  \n",
      "75%                           0.779000    14.300000  \n",
      "max                           0.948000    20.700000  \n"
     ]
    }
   ],
   "source": [
    "print(data.describe())"
   ]
  },
  {
   "cell_type": "code",
   "execution_count": 5,
   "id": "d9101d98",
   "metadata": {},
   "outputs": [
    {
     "data": {
      "text/html": [
       "<div>\n",
       "<style scoped>\n",
       "    .dataframe tbody tr th:only-of-type {\n",
       "        vertical-align: middle;\n",
       "    }\n",
       "\n",
       "    .dataframe tbody tr th {\n",
       "        vertical-align: top;\n",
       "    }\n",
       "\n",
       "    .dataframe thead th {\n",
       "        text-align: right;\n",
       "    }\n",
       "</style>\n",
       "<table border=\"1\" class=\"dataframe\">\n",
       "  <thead>\n",
       "    <tr style=\"text-align: right;\">\n",
       "      <th></th>\n",
       "      <th>country</th>\n",
       "      <th>year</th>\n",
       "      <th>status</th>\n",
       "      <th>life_expectancy</th>\n",
       "      <th>adult_mortality</th>\n",
       "      <th>infant_deaths</th>\n",
       "      <th>alcohol</th>\n",
       "      <th>percentage_expenditure</th>\n",
       "      <th>hepatitis_b</th>\n",
       "      <th>measles</th>\n",
       "      <th>...</th>\n",
       "      <th>polio</th>\n",
       "      <th>total_expenditure</th>\n",
       "      <th>diphtheria</th>\n",
       "      <th>hiv_aids</th>\n",
       "      <th>gdp</th>\n",
       "      <th>population</th>\n",
       "      <th>thinness_1_19_years</th>\n",
       "      <th>thinness_5_9_years</th>\n",
       "      <th>income_composition_of_resources</th>\n",
       "      <th>schooling</th>\n",
       "    </tr>\n",
       "  </thead>\n",
       "  <tbody>\n",
       "    <tr>\n",
       "      <th>0</th>\n",
       "      <td>Afghanistan</td>\n",
       "      <td>2015</td>\n",
       "      <td>Developing</td>\n",
       "      <td>65.0</td>\n",
       "      <td>263.0</td>\n",
       "      <td>62</td>\n",
       "      <td>0.01</td>\n",
       "      <td>71.279624</td>\n",
       "      <td>65.0</td>\n",
       "      <td>1154</td>\n",
       "      <td>...</td>\n",
       "      <td>6.0</td>\n",
       "      <td>8.16</td>\n",
       "      <td>65.0</td>\n",
       "      <td>0.1</td>\n",
       "      <td>584.259210</td>\n",
       "      <td>33736494.0</td>\n",
       "      <td>17.2</td>\n",
       "      <td>17.3</td>\n",
       "      <td>0.479</td>\n",
       "      <td>10.1</td>\n",
       "    </tr>\n",
       "    <tr>\n",
       "      <th>1</th>\n",
       "      <td>Afghanistan</td>\n",
       "      <td>2014</td>\n",
       "      <td>Developing</td>\n",
       "      <td>59.9</td>\n",
       "      <td>271.0</td>\n",
       "      <td>64</td>\n",
       "      <td>0.01</td>\n",
       "      <td>73.523582</td>\n",
       "      <td>62.0</td>\n",
       "      <td>492</td>\n",
       "      <td>...</td>\n",
       "      <td>58.0</td>\n",
       "      <td>8.18</td>\n",
       "      <td>62.0</td>\n",
       "      <td>0.1</td>\n",
       "      <td>612.696514</td>\n",
       "      <td>327582.0</td>\n",
       "      <td>17.5</td>\n",
       "      <td>17.5</td>\n",
       "      <td>0.476</td>\n",
       "      <td>10.0</td>\n",
       "    </tr>\n",
       "    <tr>\n",
       "      <th>2</th>\n",
       "      <td>Afghanistan</td>\n",
       "      <td>2013</td>\n",
       "      <td>Developing</td>\n",
       "      <td>59.9</td>\n",
       "      <td>268.0</td>\n",
       "      <td>66</td>\n",
       "      <td>0.01</td>\n",
       "      <td>73.219243</td>\n",
       "      <td>64.0</td>\n",
       "      <td>430</td>\n",
       "      <td>...</td>\n",
       "      <td>62.0</td>\n",
       "      <td>8.13</td>\n",
       "      <td>64.0</td>\n",
       "      <td>0.1</td>\n",
       "      <td>631.744976</td>\n",
       "      <td>31731688.0</td>\n",
       "      <td>17.7</td>\n",
       "      <td>17.7</td>\n",
       "      <td>0.470</td>\n",
       "      <td>9.9</td>\n",
       "    </tr>\n",
       "    <tr>\n",
       "      <th>3</th>\n",
       "      <td>Afghanistan</td>\n",
       "      <td>2012</td>\n",
       "      <td>Developing</td>\n",
       "      <td>59.5</td>\n",
       "      <td>272.0</td>\n",
       "      <td>69</td>\n",
       "      <td>0.01</td>\n",
       "      <td>78.184215</td>\n",
       "      <td>67.0</td>\n",
       "      <td>2787</td>\n",
       "      <td>...</td>\n",
       "      <td>67.0</td>\n",
       "      <td>8.52</td>\n",
       "      <td>67.0</td>\n",
       "      <td>0.1</td>\n",
       "      <td>669.959000</td>\n",
       "      <td>3696958.0</td>\n",
       "      <td>17.9</td>\n",
       "      <td>18.0</td>\n",
       "      <td>0.463</td>\n",
       "      <td>9.8</td>\n",
       "    </tr>\n",
       "    <tr>\n",
       "      <th>4</th>\n",
       "      <td>Afghanistan</td>\n",
       "      <td>2011</td>\n",
       "      <td>Developing</td>\n",
       "      <td>59.2</td>\n",
       "      <td>275.0</td>\n",
       "      <td>71</td>\n",
       "      <td>0.01</td>\n",
       "      <td>7.097109</td>\n",
       "      <td>68.0</td>\n",
       "      <td>3013</td>\n",
       "      <td>...</td>\n",
       "      <td>68.0</td>\n",
       "      <td>7.87</td>\n",
       "      <td>68.0</td>\n",
       "      <td>0.1</td>\n",
       "      <td>63.537231</td>\n",
       "      <td>2978599.0</td>\n",
       "      <td>18.2</td>\n",
       "      <td>18.2</td>\n",
       "      <td>0.454</td>\n",
       "      <td>9.5</td>\n",
       "    </tr>\n",
       "  </tbody>\n",
       "</table>\n",
       "<p>5 rows × 22 columns</p>\n",
       "</div>"
      ],
      "text/plain": [
       "       country  year      status  life_expectancy  adult_mortality  \\\n",
       "0  Afghanistan  2015  Developing             65.0            263.0   \n",
       "1  Afghanistan  2014  Developing             59.9            271.0   \n",
       "2  Afghanistan  2013  Developing             59.9            268.0   \n",
       "3  Afghanistan  2012  Developing             59.5            272.0   \n",
       "4  Afghanistan  2011  Developing             59.2            275.0   \n",
       "\n",
       "   infant_deaths  alcohol  percentage_expenditure  hepatitis_b  measles  ...  \\\n",
       "0             62     0.01               71.279624         65.0     1154  ...   \n",
       "1             64     0.01               73.523582         62.0      492  ...   \n",
       "2             66     0.01               73.219243         64.0      430  ...   \n",
       "3             69     0.01               78.184215         67.0     2787  ...   \n",
       "4             71     0.01                7.097109         68.0     3013  ...   \n",
       "\n",
       "   polio  total_expenditure  diphtheria  hiv_aids         gdp  population  \\\n",
       "0    6.0               8.16        65.0       0.1  584.259210  33736494.0   \n",
       "1   58.0               8.18        62.0       0.1  612.696514    327582.0   \n",
       "2   62.0               8.13        64.0       0.1  631.744976  31731688.0   \n",
       "3   67.0               8.52        67.0       0.1  669.959000   3696958.0   \n",
       "4   68.0               7.87        68.0       0.1   63.537231   2978599.0   \n",
       "\n",
       "   thinness_1_19_years  thinness_5_9_years  income_composition_of_resources  \\\n",
       "0                 17.2                17.3                            0.479   \n",
       "1                 17.5                17.5                            0.476   \n",
       "2                 17.7                17.7                            0.470   \n",
       "3                 17.9                18.0                            0.463   \n",
       "4                 18.2                18.2                            0.454   \n",
       "\n",
       "   schooling  \n",
       "0       10.1  \n",
       "1       10.0  \n",
       "2        9.9  \n",
       "3        9.8  \n",
       "4        9.5  \n",
       "\n",
       "[5 rows x 22 columns]"
      ]
     },
     "execution_count": 5,
     "metadata": {},
     "output_type": "execute_result"
    }
   ],
   "source": [
    "data.head(5)"
   ]
  },
  {
   "cell_type": "code",
   "execution_count": 8,
   "id": "526d0e22",
   "metadata": {
    "scrolled": false
   },
   "outputs": [
    {
     "name": "stdout",
     "output_type": "stream",
     "text": [
      "Number of training observations: 2644\n",
      "Number of testing observations: 294\n"
     ]
    }
   ],
   "source": [
    "# set aside 10% of data to test final model onn\n",
    "test = data.sample(frac=0.1, random_state=1)\n",
    "train = data.drop(test.index)\n",
    "\n",
    "print(f\"Number of training observations: {train.shape[0]}\")\n",
    "print(f\"Number of testing observations: {test.shape[0]}\")"
   ]
  },
  {
   "cell_type": "code",
   "execution_count": 9,
   "id": "91fd9af4",
   "metadata": {},
   "outputs": [],
   "source": [
    "# Add dummies for Development status\n",
    "train = pd.get_dummies(data = train, columns = ['status'])\n",
    "test = pd.get_dummies(data = test, columns = ['status'])"
   ]
  },
  {
   "cell_type": "code",
   "execution_count": 10,
   "id": "38d0970a",
   "metadata": {
    "scrolled": true
   },
   "outputs": [
    {
     "name": "stdout",
     "output_type": "stream",
     "text": [
      "life_expectancy has 6 n/a values\n",
      "adult_mortality has 6 n/a values\n",
      "alcohol has 179 n/a values\n",
      "hepatitis_b has 510 n/a values\n",
      "bmi has 30 n/a values\n",
      "polio has 18 n/a values\n",
      "total_expenditure has 210 n/a values\n",
      "diphtheria has 18 n/a values\n",
      "gdp has 401 n/a values\n",
      "population has 587 n/a values\n",
      "thinness_1_19_years has 30 n/a values\n",
      "thinness_5_9_years has 30 n/a values\n",
      "income_composition_of_resources has 154 n/a values\n",
      "schooling has 151 n/a values\n"
     ]
    }
   ],
   "source": [
    "for column in train.columns:\n",
    "    missing_values = train[column].isnull().sum()\n",
    "    if missing_values > 0:\n",
    "        print(f'{column} has {missing_values} n/a values')"
   ]
  },
  {
   "cell_type": "code",
   "execution_count": 9,
   "id": "2c881004",
   "metadata": {},
   "outputs": [],
   "source": [
    "def fill_na_data(data):\n",
    "    for col in train.columns:\n",
    "        train[col] = train[col].fillna(method='bfill')"
   ]
  },
  {
   "cell_type": "code",
   "execution_count": 10,
   "id": "afb728a1",
   "metadata": {
    "scrolled": true
   },
   "outputs": [],
   "source": [
    "fill_na_data(train)"
   ]
  },
  {
   "cell_type": "code",
   "execution_count": 11,
   "id": "b7f3be7b",
   "metadata": {},
   "outputs": [],
   "source": [
    "# drop adult mortality, under 5 deaths, and infant deaths as a predictor since that is the same as life expectancy\n",
    "# also dropping  year, GDP, and Population since those are not predictors countries can control\n",
    "train.drop(columns = ['adult_mortality', 'infant_deaths', 'under_five_deaths','gdp','year', 'population'], inplace = True)\n",
    "test.drop(columns = ['adult_mortality', 'infant_deaths','under_five_deaths','gdp', 'year','population'], inplace = True)"
   ]
  },
  {
   "cell_type": "code",
   "execution_count": 12,
   "id": "9c5cce42",
   "metadata": {
    "scrolled": true
   },
   "outputs": [
    {
     "data": {
      "text/plain": [
       "Index(['country', 'life_expectancy', 'alcohol', 'percentage_expenditure',\n",
       "       'hepatitis_b', 'measles', 'bmi', 'polio', 'total_expenditure',\n",
       "       'diphtheria', 'hiv_aids', 'thinness_1_19_years', 'thinness_5_9_years',\n",
       "       'income_composition_of_resources', 'schooling', 'status_Developed',\n",
       "       'status_Developing'],\n",
       "      dtype='object')"
      ]
     },
     "execution_count": 12,
     "metadata": {},
     "output_type": "execute_result"
    }
   ],
   "source": [
    "train.columns"
   ]
  },
  {
   "cell_type": "code",
   "execution_count": 13,
   "id": "f9b2e9c6",
   "metadata": {},
   "outputs": [],
   "source": [
    "train = train.dropna()\n",
    "test = test.dropna()"
   ]
  },
  {
   "cell_type": "code",
   "execution_count": 14,
   "id": "682d20e3",
   "metadata": {},
   "outputs": [],
   "source": [
    "X = train[['alcohol', 'percentage_expenditure',\n",
    "       'hepatitis_b', 'measles', 'bmi', 'polio', 'total_expenditure',\n",
    "       'diphtheria', 'hiv_aids', 'thinness_1_19_years', 'thinness_5_9_years',\n",
    "       'income_composition_of_resources', 'schooling', 'status_Developed',\n",
    "       'status_Developing']]\n",
    "X_test = test[['alcohol', 'percentage_expenditure',\n",
    "       'hepatitis_b', 'measles', 'bmi', 'polio', 'total_expenditure',\n",
    "       'diphtheria', 'hiv_aids', 'thinness_1_19_years', 'thinness_5_9_years',\n",
    "       'income_composition_of_resources', 'schooling', 'status_Developed',\n",
    "       'status_Developing']]\n",
    "\n",
    "y = train[['life_expectancy']]\n",
    "y_test = test[['life_expectancy']]"
   ]
  },
  {
   "cell_type": "code",
   "execution_count": 15,
   "id": "a9adad38",
   "metadata": {},
   "outputs": [
    {
     "data": {
      "text/html": [
       "<div>\n",
       "<style scoped>\n",
       "    .dataframe tbody tr th:only-of-type {\n",
       "        vertical-align: middle;\n",
       "    }\n",
       "\n",
       "    .dataframe tbody tr th {\n",
       "        vertical-align: top;\n",
       "    }\n",
       "\n",
       "    .dataframe thead th {\n",
       "        text-align: right;\n",
       "    }\n",
       "</style>\n",
       "<table border=\"1\" class=\"dataframe\">\n",
       "  <thead>\n",
       "    <tr style=\"text-align: right;\">\n",
       "      <th></th>\n",
       "      <th>alcohol</th>\n",
       "      <th>percentage_expenditure</th>\n",
       "      <th>hepatitis_b</th>\n",
       "      <th>measles</th>\n",
       "      <th>bmi</th>\n",
       "      <th>polio</th>\n",
       "      <th>total_expenditure</th>\n",
       "      <th>diphtheria</th>\n",
       "      <th>hiv_aids</th>\n",
       "      <th>thinness_1_19_years</th>\n",
       "      <th>thinness_5_9_years</th>\n",
       "      <th>income_composition_of_resources</th>\n",
       "      <th>schooling</th>\n",
       "      <th>status_Developed</th>\n",
       "      <th>status_Developing</th>\n",
       "    </tr>\n",
       "  </thead>\n",
       "  <tbody>\n",
       "    <tr>\n",
       "      <th>count</th>\n",
       "      <td>2644.000000</td>\n",
       "      <td>2644.000000</td>\n",
       "      <td>2644.000000</td>\n",
       "      <td>2644.000000</td>\n",
       "      <td>2644.000000</td>\n",
       "      <td>2644.000000</td>\n",
       "      <td>2644.000000</td>\n",
       "      <td>2644.000000</td>\n",
       "      <td>2644.000000</td>\n",
       "      <td>2644.000000</td>\n",
       "      <td>2644.000000</td>\n",
       "      <td>2644.000000</td>\n",
       "      <td>2644.000000</td>\n",
       "      <td>2644.000000</td>\n",
       "      <td>2644.000000</td>\n",
       "    </tr>\n",
       "    <tr>\n",
       "      <th>mean</th>\n",
       "      <td>4.500242</td>\n",
       "      <td>736.205128</td>\n",
       "      <td>81.834342</td>\n",
       "      <td>2392.202345</td>\n",
       "      <td>38.588994</td>\n",
       "      <td>82.743949</td>\n",
       "      <td>5.966895</td>\n",
       "      <td>82.637292</td>\n",
       "      <td>1.717738</td>\n",
       "      <td>4.818343</td>\n",
       "      <td>4.839713</td>\n",
       "      <td>0.636739</td>\n",
       "      <td>12.198033</td>\n",
       "      <td>0.173979</td>\n",
       "      <td>0.826021</td>\n",
       "    </tr>\n",
       "    <tr>\n",
       "      <th>std</th>\n",
       "      <td>4.067714</td>\n",
       "      <td>1989.971310</td>\n",
       "      <td>23.840825</td>\n",
       "      <td>11105.292356</td>\n",
       "      <td>20.035491</td>\n",
       "      <td>23.142436</td>\n",
       "      <td>2.512196</td>\n",
       "      <td>23.282349</td>\n",
       "      <td>4.891351</td>\n",
       "      <td>4.397819</td>\n",
       "      <td>4.483596</td>\n",
       "      <td>0.209997</td>\n",
       "      <td>3.450541</td>\n",
       "      <td>0.379163</td>\n",
       "      <td>0.379163</td>\n",
       "    </tr>\n",
       "    <tr>\n",
       "      <th>min</th>\n",
       "      <td>0.010000</td>\n",
       "      <td>0.000000</td>\n",
       "      <td>1.000000</td>\n",
       "      <td>0.000000</td>\n",
       "      <td>1.000000</td>\n",
       "      <td>3.000000</td>\n",
       "      <td>0.370000</td>\n",
       "      <td>2.000000</td>\n",
       "      <td>0.100000</td>\n",
       "      <td>0.100000</td>\n",
       "      <td>0.100000</td>\n",
       "      <td>0.000000</td>\n",
       "      <td>0.000000</td>\n",
       "      <td>0.000000</td>\n",
       "      <td>0.000000</td>\n",
       "    </tr>\n",
       "    <tr>\n",
       "      <th>25%</th>\n",
       "      <td>0.610000</td>\n",
       "      <td>4.405837</td>\n",
       "      <td>78.000000</td>\n",
       "      <td>0.000000</td>\n",
       "      <td>19.475000</td>\n",
       "      <td>78.000000</td>\n",
       "      <td>4.280000</td>\n",
       "      <td>78.000000</td>\n",
       "      <td>0.100000</td>\n",
       "      <td>1.600000</td>\n",
       "      <td>1.500000</td>\n",
       "      <td>0.501000</td>\n",
       "      <td>10.200000</td>\n",
       "      <td>0.000000</td>\n",
       "      <td>1.000000</td>\n",
       "    </tr>\n",
       "    <tr>\n",
       "      <th>50%</th>\n",
       "      <td>3.585000</td>\n",
       "      <td>63.059614</td>\n",
       "      <td>92.000000</td>\n",
       "      <td>18.000000</td>\n",
       "      <td>43.800000</td>\n",
       "      <td>93.000000</td>\n",
       "      <td>5.780000</td>\n",
       "      <td>93.000000</td>\n",
       "      <td>0.100000</td>\n",
       "      <td>3.400000</td>\n",
       "      <td>3.400000</td>\n",
       "      <td>0.684000</td>\n",
       "      <td>12.500000</td>\n",
       "      <td>0.000000</td>\n",
       "      <td>1.000000</td>\n",
       "    </tr>\n",
       "    <tr>\n",
       "      <th>75%</th>\n",
       "      <td>7.600000</td>\n",
       "      <td>443.362385</td>\n",
       "      <td>97.000000</td>\n",
       "      <td>373.500000</td>\n",
       "      <td>56.400000</td>\n",
       "      <td>97.000000</td>\n",
       "      <td>7.570000</td>\n",
       "      <td>97.000000</td>\n",
       "      <td>0.800000</td>\n",
       "      <td>7.200000</td>\n",
       "      <td>7.200000</td>\n",
       "      <td>0.791000</td>\n",
       "      <td>14.600000</td>\n",
       "      <td>0.000000</td>\n",
       "      <td>1.000000</td>\n",
       "    </tr>\n",
       "    <tr>\n",
       "      <th>max</th>\n",
       "      <td>17.870000</td>\n",
       "      <td>19479.911610</td>\n",
       "      <td>99.000000</td>\n",
       "      <td>212183.000000</td>\n",
       "      <td>87.300000</td>\n",
       "      <td>99.000000</td>\n",
       "      <td>17.600000</td>\n",
       "      <td>99.000000</td>\n",
       "      <td>50.600000</td>\n",
       "      <td>27.700000</td>\n",
       "      <td>28.600000</td>\n",
       "      <td>0.948000</td>\n",
       "      <td>20.700000</td>\n",
       "      <td>1.000000</td>\n",
       "      <td>1.000000</td>\n",
       "    </tr>\n",
       "  </tbody>\n",
       "</table>\n",
       "</div>"
      ],
      "text/plain": [
       "           alcohol  percentage_expenditure  hepatitis_b        measles  \\\n",
       "count  2644.000000             2644.000000  2644.000000    2644.000000   \n",
       "mean      4.500242              736.205128    81.834342    2392.202345   \n",
       "std       4.067714             1989.971310    23.840825   11105.292356   \n",
       "min       0.010000                0.000000     1.000000       0.000000   \n",
       "25%       0.610000                4.405837    78.000000       0.000000   \n",
       "50%       3.585000               63.059614    92.000000      18.000000   \n",
       "75%       7.600000              443.362385    97.000000     373.500000   \n",
       "max      17.870000            19479.911610    99.000000  212183.000000   \n",
       "\n",
       "               bmi        polio  total_expenditure   diphtheria     hiv_aids  \\\n",
       "count  2644.000000  2644.000000        2644.000000  2644.000000  2644.000000   \n",
       "mean     38.588994    82.743949           5.966895    82.637292     1.717738   \n",
       "std      20.035491    23.142436           2.512196    23.282349     4.891351   \n",
       "min       1.000000     3.000000           0.370000     2.000000     0.100000   \n",
       "25%      19.475000    78.000000           4.280000    78.000000     0.100000   \n",
       "50%      43.800000    93.000000           5.780000    93.000000     0.100000   \n",
       "75%      56.400000    97.000000           7.570000    97.000000     0.800000   \n",
       "max      87.300000    99.000000          17.600000    99.000000    50.600000   \n",
       "\n",
       "       thinness_1_19_years  thinness_5_9_years  \\\n",
       "count          2644.000000         2644.000000   \n",
       "mean              4.818343            4.839713   \n",
       "std               4.397819            4.483596   \n",
       "min               0.100000            0.100000   \n",
       "25%               1.600000            1.500000   \n",
       "50%               3.400000            3.400000   \n",
       "75%               7.200000            7.200000   \n",
       "max              27.700000           28.600000   \n",
       "\n",
       "       income_composition_of_resources    schooling  status_Developed  \\\n",
       "count                      2644.000000  2644.000000       2644.000000   \n",
       "mean                          0.636739    12.198033          0.173979   \n",
       "std                           0.209997     3.450541          0.379163   \n",
       "min                           0.000000     0.000000          0.000000   \n",
       "25%                           0.501000    10.200000          0.000000   \n",
       "50%                           0.684000    12.500000          0.000000   \n",
       "75%                           0.791000    14.600000          0.000000   \n",
       "max                           0.948000    20.700000          1.000000   \n",
       "\n",
       "       status_Developing  \n",
       "count        2644.000000  \n",
       "mean            0.826021  \n",
       "std             0.379163  \n",
       "min             0.000000  \n",
       "25%             1.000000  \n",
       "50%             1.000000  \n",
       "75%             1.000000  \n",
       "max             1.000000  "
      ]
     },
     "execution_count": 15,
     "metadata": {},
     "output_type": "execute_result"
    }
   ],
   "source": [
    "X.describe()"
   ]
  },
  {
   "cell_type": "markdown",
   "id": "6835787f",
   "metadata": {},
   "source": [
    "# Bagging"
   ]
  },
  {
   "cell_type": "markdown",
   "id": "7ba1ff89",
   "metadata": {},
   "source": [
    "\n",
    "I started with the first non-linear approach, which was bagging. My primary concern was finding the right number of trees to bag. By examining a plot of model accuracy versus the number of trees, I noticed that both the test and out-of-bag RMSE decreased rapidly after bagging only a few trees. To fine-tune the model, I explored a narrower range of tree numbers (150, 200, 250) as potential estimators."
   ]
  },
  {
   "cell_type": "code",
   "execution_count": 45,
   "id": "d2968cb2",
   "metadata": {},
   "outputs": [
    {
     "data": {
      "text/plain": [
       "<matplotlib.legend.Legend at 0x7fd23eea0c70>"
      ]
     },
     "execution_count": 45,
     "metadata": {},
     "output_type": "execute_result"
    },
    {
     "data": {
      "image/png": "[encoded data removed]",
      "text/plain": [
       "<Figure size 640x480 with 1 Axes>"
      ]
     },
     "metadata": {
      "needs_background": "light"
     },
     "output_type": "display_data"
    }
   ],
   "source": [
    "#Finding model accuracy vs number of trees\n",
    "oob_rsquared={};test_rsquared={};oob_rmse={};test_rmse = {}\n",
    "for i in np.linspace(10,400,40,dtype=int):\n",
    "    model = BaggingRegressor(base_estimator=DecisionTreeRegressor(), n_estimators=i, random_state=1,\n",
    "                        n_jobs=-1,oob_score=True).fit(X, y)\n",
    "    oob_rsquared[i]=model.oob_score_  #Returns the out-of_bag R-squared of the model\n",
    "    test_rsquared[i]=model.score(X_test,y_test) #Returns the test R-squared of the model\n",
    "    oob_rmse[i]=np.sqrt(mean_squared_error(model.oob_prediction_,y))\n",
    "    test_rmse[i]=np.sqrt(mean_squared_error(model.predict(X_test),y_test))\n",
    "#Visualizing out-of-bag RMSE and test data RMSE\n",
    "plt.rcParams.update({'font.size': 15})\n",
    "plt.figure(figsize=(8, 6), dpi=80)\n",
    "plt.plot(oob_rmse.keys(),oob_rmse.values(),label = 'Out of bag RMSE')\n",
    "plt.plot(oob_rmse.keys(),oob_rmse.values(),'o',color = 'blue')\n",
    "plt.plot(test_rmse.keys(),test_rmse.values(), label = 'Test data RMSE')\n",
    "plt.xlabel('Number of trees')\n",
    "plt.ylabel('RMSE')\n",
    "plt.legend()"
   ]
  },
  {
   "cell_type": "code",
   "execution_count": 50,
   "id": "0035bd83",
   "metadata": {},
   "outputs": [
    {
     "name": "stdout",
     "output_type": "stream",
     "text": [
      "Fitting 5 folds for each of 96 candidates, totalling 480 fits\n",
      "Train R^2 Score : 1.000\n",
      "Test R^2 Score : 0.948\n",
      "Best R^2 Score Through Grid Search : 0.951\n",
      "Best Parameters :  {'base_estimator': DecisionTreeRegressor(random_state=1), 'bootstrap': False, 'bootstrap_features': True, 'max_features': 1.0, 'max_samples': 1.0, 'n_estimators': 200}\n"
     ]
    }
   ],
   "source": [
    "# tuning params for bagging\n",
    "params = {'base_estimator': [DecisionTreeRegressor(random_state = 1),LinearRegression()],\n",
    "          #Comparing bagging with a linear regression model as well\n",
    "          'n_estimators': [150, 200, 250],\n",
    "          'max_samples': [0.5,1.0],\n",
    "          'max_features': [0.5,1.0],\n",
    "          'bootstrap': [True, False],\n",
    "          'bootstrap_features': [True, False]}\n",
    "cv = KFold(n_splits=5,shuffle=True,random_state=1)\n",
    "bagging_regressor_grid = GridSearchCV(BaggingRegressor(random_state=1, n_jobs=-1),\n",
    "                                      param_grid =params, cv=cv, n_jobs=-1,verbose=1)\n",
    "bagging_regressor_grid.fit(X, y)\n",
    "print('Train R^2 Score : %.3f'%bagging_regressor_grid.best_estimator_.score(X,y))\n",
    "print('Test R^2 Score : %.3f'%bagging_regressor_grid.best_estimator_.score(X_test, y_test))\n",
    "print('Best R^2 Score Through Grid Search : %.3f'%bagging_regressor_grid.best_score_)\n",
    "print('Best Parameters : ',bagging_regressor_grid.best_params_)"
   ]
  },
  {
   "cell_type": "code",
   "execution_count": 40,
   "id": "e6e62cc4",
   "metadata": {},
   "outputs": [],
   "source": [
    "bag_model = BaggingRegressor(base_estimator=DecisionTreeRegressor(random_state=1), \n",
    "                         n_estimators= 200, \n",
    "                         max_samples = 1.0,\n",
    "                         max_features = 1.0,\n",
    "                         bootstrap = False,\n",
    "                         bootstrap_features = True,\n",
    "                         random_state=1,\n",
    "                         n_jobs=-1).fit(X, y)"
   ]
  },
  {
   "cell_type": "code",
   "execution_count": 41,
   "id": "ed6a7734",
   "metadata": {
    "scrolled": true
   },
   "outputs": [
    {
     "name": "stdout",
     "output_type": "stream",
     "text": [
      "The optimized bagged model gave an RMSE = 1.833\n"
     ]
    }
   ],
   "source": [
    "bag_rmse = round(np.sqrt(mean_squared_error(test.life_expectancy, bag_model.predict(X_test))),3)\n",
    "print(\"The optimized bagged model gave an RMSE = \" + str(bag_rmse))"
   ]
  },
  {
   "cell_type": "markdown",
   "id": "aef2a3fe",
   "metadata": {},
   "source": [
    "Note: the samples are selected with bootstrap = False (i.e no replacement), and the \"optimized\" bagging is actually building a tree on the same data 200 times. However, changing the max_samples/bootstrap params for the bagging gave worse RMSEs. This RMSE value is an improvement from the linear base\n",
    "model."
   ]
  },
  {
   "cell_type": "markdown",
   "id": "a10238a2",
   "metadata": {},
   "source": [
    "# Random Forest"
   ]
  },
  {
   "cell_type": "markdown",
   "id": "8aea4440",
   "metadata": {},
   "source": [
    "I considered using random forest to reduce prediction errors further. Following a procedure similar to bagging, I optimized the random forest model. Surprisingly, the tuned RF model had a slightly higher RMSE (1.847) than the bagged one. Despite exploring different max_features and n_estimators values, I couldn't achieve a lower error with random forest compared to bagging"
   ]
  },
  {
   "cell_type": "code",
   "execution_count": 21,
   "id": "1849e681",
   "metadata": {
    "scrolled": true
   },
   "outputs": [
    {
     "data": {
      "text/plain": [
       "(2644, 15)"
      ]
     },
     "execution_count": 21,
     "metadata": {},
     "output_type": "execute_result"
    }
   ],
   "source": [
    "X.shape"
   ]
  },
  {
   "cell_type": "code",
   "execution_count": 47,
   "id": "64d781e7",
   "metadata": {},
   "outputs": [
    {
     "data": {
      "text/plain": [
       "<matplotlib.legend.Legend at 0x7fd23f00f880>"
      ]
     },
     "execution_count": 47,
     "metadata": {},
     "output_type": "execute_result"
    },
    {
     "data": {
      "image/png": "[encoded data removed]",
      "text/plain": [
       "<Figure size 640x480 with 1 Axes>"
      ]
     },
     "metadata": {
      "needs_background": "light"
     },
     "output_type": "display_data"
    }
   ],
   "source": [
    "oob_rsquared={};test_rsquared={};oob_rmse={};test_rmse = {}\n",
    "\n",
    "for i in np.linspace(10,400,40,dtype=int):\n",
    "    model = RandomForestRegressor(n_estimators=i, random_state=1,max_features=\"sqrt\",\n",
    "                        n_jobs=-1,oob_score=True).fit(X, y)\n",
    "    oob_rsquared[i]=model.oob_score_  #Returns the out-of_bag R-squared of the model\n",
    "    test_rsquared[i]=model.score(X_test,y_test) #Returns the test R-squared of the model\n",
    "    oob_rmse[i]=np.sqrt(mean_squared_error(model.oob_prediction_,y))\n",
    "    test_rmse[i]=np.sqrt(mean_squared_error(model.predict(X_test),y_test))\n",
    "#Visualizing out-of-bag RMSE and test data RMSE\n",
    "plt.rcParams.update({'font.size': 15})\n",
    "plt.figure(figsize=(8, 6), dpi=80)\n",
    "plt.plot(oob_rmse.keys(),oob_rmse.values(),label = 'Out of bag RMSE')\n",
    "plt.plot(oob_rmse.keys(),oob_rmse.values(),'o',color = 'blue')\n",
    "plt.plot(test_rmse.keys(),test_rmse.values(), label = 'Test data RMSE')\n",
    "plt.xlabel('Number of trees')\n",
    "plt.ylabel('RMSE')\n",
    "plt.legend()"
   ]
  },
  {
   "cell_type": "code",
   "execution_count": 22,
   "id": "72898011",
   "metadata": {},
   "outputs": [
    {
     "name": "stdout",
     "output_type": "stream",
     "text": [
      "Best params =  (500, 9)\n",
      "Best score (R-squared) =  0.9559334596508698\n"
     ]
    }
   ],
   "source": [
    "params = {'n_estimators': [100, 250, 500],\n",
    "          'max_features': range(1,10)}\n",
    "\n",
    "param_list=list(it.product(*(params[Name] for Name in params)))\n",
    "\n",
    "oob_score = [0]*len(param_list)\n",
    "i=0\n",
    "for pr in param_list:\n",
    "    model = RandomForestRegressor(random_state=1,oob_score=True,verbose=False,n_estimators = pr[0],\n",
    "                                 max_features=pr[1],n_jobs=-1).fit(X,y)\n",
    "    oob_score[i] = model.oob_score_\n",
    "    i=i+1\n",
    "    \n",
    "print(\"Best params = \", param_list[np.argmax(oob_score)])\n",
    "print(\"Best score (R-squared) = \", np.max(oob_score))"
   ]
  },
  {
   "cell_type": "code",
   "execution_count": 21,
   "id": "324882df",
   "metadata": {},
   "outputs": [
    {
     "name": "stdout",
     "output_type": "stream",
     "text": [
      "The optimized RF model gave an RMSE = 1.847\n"
     ]
    }
   ],
   "source": [
    "#Model with optimal parameters\n",
    "rf_model = RandomForestRegressor(n_estimators=500, random_state=1,\n",
    "                        n_jobs=-1, max_features=9).fit(X, y)\n",
    "#RMSE on test data\n",
    "rf_rmse = round(np.sqrt(mean_squared_error(test.life_expectancy, rf_model.predict(X_test))),3)\n",
    "print(\"The optimized RF model gave an RMSE = \" + str(rf_rmse))"
   ]
  },
  {
   "cell_type": "markdown",
   "id": "ff58102e",
   "metadata": {},
   "source": [
    "# Boosting\n",
    "\n",
    "The last tree-based modeling approaches I used included three boosting methods: Adaptive boosting, Gradient boost, and XGBoost. Each of these models had slightly different parameters requiring tuning, with the most crucial ones being the learning rates and max_depths. These parameters dictated the rate at which the boosting model learned to predict life expectancies."
   ]
  },
  {
   "cell_type": "markdown",
   "id": "25222477",
   "metadata": {},
   "source": [
    "## AdaBoost"
   ]
  },
  {
   "cell_type": "code",
   "execution_count": 24,
   "id": "e527cd42",
   "metadata": {},
   "outputs": [
    {
     "name": "stdout",
     "output_type": "stream",
     "text": [
      "Best: -3.792638 using {'base_estimator': DecisionTreeRegressor(max_depth=15), 'learning_rate': 1.0, 'n_estimators': 100}\n"
     ]
    }
   ],
   "source": [
    "# finding tuned params for AdaBoost model\n",
    "model = AdaBoostRegressor(random_state=1)\n",
    "grid = dict()\n",
    "grid['n_estimators'] = [10, 50, 100, 200]\n",
    "grid['learning_rate'] = [0.0001, 0.001, 0.01,0.1, 1.0]\n",
    "grid['base_estimator'] = [DecisionTreeRegressor(max_depth=3), DecisionTreeRegressor(max_depth=5), \n",
    "                          DecisionTreeRegressor(max_depth=10),DecisionTreeRegressor(max_depth=15)]\n",
    "# define the evaluation procedure\n",
    "cv = KFold(n_splits=5, shuffle=True, random_state=1)\n",
    "# define the grid search procedure\n",
    "grid_search = GridSearchCV(estimator=model, param_grid=grid, n_jobs=-1, cv=cv, scoring='neg_mean_squared_error')\n",
    "# execute the grid search\n",
    "grid_result = grid_search.fit(X, y)\n",
    "# summarize the best score and configuration\n",
    "print(\"Best: %f using %s\" % (grid_result.best_score_, grid_result.best_params_))"
   ]
  },
  {
   "cell_type": "code",
   "execution_count": 49,
   "id": "8320a330",
   "metadata": {},
   "outputs": [
    {
     "name": "stdout",
     "output_type": "stream",
     "text": [
      "The optimized AdaBoost model gave an RMSE = 1.679\n"
     ]
    }
   ],
   "source": [
    "# tuned AdaBoost Model - but used a lower learning rate than optimal parameter (similar RMSE either way)\n",
    "ada_model = AdaBoostRegressor(base_estimator=DecisionTreeRegressor(max_depth=15),n_estimators=100,learning_rate=0.1,\n",
    "                         random_state=1).fit(X,y)\n",
    "#RMSE on test data\n",
    "ada_rmse = round(np.sqrt(mean_squared_error(test.life_expectancy, ada_model.predict(X_test))),3)\n",
    "print(\"The optimized AdaBoost model gave an RMSE = \" + str(ada_rmse))"
   ]
  },
  {
   "cell_type": "markdown",
   "id": "e3c557b8",
   "metadata": {},
   "source": [
    "## Gradient Boost"
   ]
  },
  {
   "cell_type": "code",
   "execution_count": 26,
   "id": "8495336f",
   "metadata": {},
   "outputs": [
    {
     "name": "stdout",
     "output_type": "stream",
     "text": [
      "Best: 2.226875 using {'learning_rate': 0.1, 'max_depth': 5, 'n_estimators': 500}\n"
     ]
    }
   ],
   "source": [
    "# finding tuned params for Gradient Boost model\n",
    "model = GradientBoostingRegressor(random_state=1,loss='huber')\n",
    "grid = dict()\n",
    "grid['n_estimators'] = [100,200,500]\n",
    "grid['learning_rate'] = [0.001, 0.01, 0.1]\n",
    "grid['max_depth'] = [2,3,5]\n",
    "# define the evaluation procedure\n",
    "cv = KFold(n_splits=5, shuffle=True, random_state=1)\n",
    "# define the grid search procedure\n",
    "grid_search = GridSearchCV(estimator=model, param_grid=grid, n_jobs=-1, cv=cv, scoring='neg_mean_squared_error')\n",
    "# execute the grid search\n",
    "grid_result = grid_search.fit(X, y)\n",
    "# summarize the best score and configuration\n",
    "print(\"Best: %f using %s\" % (np.sqrt(-grid_result.best_score_), grid_result.best_params_))"
   ]
  },
  {
   "cell_type": "code",
   "execution_count": 23,
   "id": "f10b0970",
   "metadata": {},
   "outputs": [
    {
     "name": "stdout",
     "output_type": "stream",
     "text": [
      "The optimized Gradient Boost model gave an RMSE = 1.965\n"
     ]
    }
   ],
   "source": [
    "# tuned Gradient Boost model\n",
    "gr_model = GradientBoostingRegressor(max_depth=5,n_estimators=500,learning_rate=0.1,\n",
    "                         random_state=1,loss='huber').fit(X,y)\n",
    "# RMSE on test data\n",
    "gr_rmse = round(np.sqrt(mean_squared_error(test.life_expectancy, gr_model.predict(X_test))),3)\n",
    "print(\"The optimized Gradient Boost model gave an RMSE = \" + str(gr_rmse))"
   ]
  },
  {
   "cell_type": "markdown",
   "id": "226c3ded",
   "metadata": {},
   "source": [
    "## XG Boost"
   ]
  },
  {
   "cell_type": "code",
   "execution_count": 28,
   "id": "30e2f344",
   "metadata": {},
   "outputs": [
    {
     "name": "stdout",
     "output_type": "stream",
     "text": [
      "Fitting 5 folds for each of 108 candidates, totalling 540 fits\n",
      "Optimal parameter values = {'learning_rate': 0.1, 'max_depth': 7, 'n_estimators': 500, 'reg_lambda': 0}\n"
     ]
    }
   ],
   "source": [
    "# tuning XG boost params\n",
    "param_grid = {'max_depth': [5,6,7],\n",
    "              'learning_rate': [0.01,0.05,0.1,0.2],\n",
    "               'reg_lambda':[0,0.01,0.001],\n",
    "                'n_estimators':[100, 250, 500]}\n",
    "\n",
    "cv = KFold(n_splits=5,shuffle=True,random_state=1)\n",
    "optimal_params = GridSearchCV(estimator=xgb.XGBRegressor(random_state=1),                                                       \n",
    "                             param_grid = param_grid,                             \n",
    "                             verbose = 1,\n",
    "                             n_jobs=-1,\n",
    "                             cv = cv)\n",
    "optimal_params.fit(X,y)\n",
    "print(\"Optimal parameter values =\", optimal_params.best_params_)"
   ]
  },
  {
   "cell_type": "code",
   "execution_count": 24,
   "id": "770dcb85",
   "metadata": {},
   "outputs": [
    {
     "name": "stdout",
     "output_type": "stream",
     "text": [
      "The optimized XGBoost model gave an RMSE = 1.859\n"
     ]
    }
   ],
   "source": [
    "# tuned XG Boost model\n",
    "xg_model = xgb.XGBRegressor(random_state=1,max_depth=7,n_estimators=500,\n",
    "                                         learning_rate = 0.1,reg_lambda=0).fit(X,y)\n",
    "# RMSE on test data\n",
    "xg_rmse = round(np.sqrt(mean_squared_error(test.life_expectancy, xg_model.predict(X_test))),3)\n",
    "print(\"The optimized XGBoost model gave an RMSE = \" + str(xg_rmse))"
   ]
  },
  {
   "cell_type": "markdown",
   "id": "ad9dd09e",
   "metadata": {},
   "source": [
    "## Ensemble Model "
   ]
  },
  {
   "cell_type": "markdown",
   "id": "528e25b4",
   "metadata": {},
   "source": [
    "After assembling the initial models, I decided to combine the models into an ensemble. Since the bagging model provided a lower RMSE than the random forest, I chose to incorporate it along with the three boosting models: AdaBoost, Gradient Boosting, and XGBoost. I attempted a voting regression with equal weight for all four models, resulting in an RMSE of 1.742, which did not improve upon the AdaBoost model. I created a stacking ensemble that assigned different weights to each of the four models' predictions. The result was a model with 24% weight for bagging, 62% for AdaBoost, 2% for Gradient Boosting, and 12% for XGBoost, achieving an RMSE of 1.667, which represented an improvement over my previous best model."
   ]
  },
  {
   "cell_type": "code",
   "execution_count": 17,
   "id": "0e176f79",
   "metadata": {},
   "outputs": [
    {
     "name": "stdout",
     "output_type": "stream",
     "text": [
      "Ensemble model RMSE =  1.742\n"
     ]
    }
   ],
   "source": [
    "# Voting ensemble\n",
    "m1 = BaggingRegressor(base_estimator=DecisionTreeRegressor(random_state=1), \n",
    "                         n_estimators= 200, \n",
    "                         max_samples = 1.0,\n",
    "                         max_features = 1.0,\n",
    "                         bootstrap = False,\n",
    "                         bootstrap_features = True,\n",
    "                         random_state=1,\n",
    "                         n_jobs=-1)\n",
    "m2 = rf_model = RandomForestRegressor(n_estimators=500, random_state=1,\n",
    "                        n_jobs=-1, max_features=9)\n",
    "m3 = AdaBoostRegressor(base_estimator=DecisionTreeRegressor(max_depth=15),n_estimators=100,learning_rate=0.1,\n",
    "                         random_state=1)\n",
    "m4 = GradientBoostingRegressor(max_depth=5,n_estimators=500,learning_rate=0.1,\n",
    "                         random_state=1,loss='huber')\n",
    "m5 = xgb.XGBRegressor(random_state=1,max_depth=7,n_estimators=500,\n",
    "                                         learning_rate = 0.1,reg_lambda=0)\n",
    "\n",
    "en1=VotingRegressor(estimators = [('bag',m1),('rf',m2),('ada',m3),('gb',m4), ('xgb',m5)])\n",
    "en1.fit(X,y)\n",
    "print(\"Ensemble model RMSE = \", round(np.sqrt(mean_squared_error(en1.predict(X_test),y_test)),3))"
   ]
  },
  {
   "cell_type": "code",
   "execution_count": 36,
   "id": "66a5335a",
   "metadata": {},
   "outputs": [
    {
     "name": "stdout",
     "output_type": "stream",
     "text": [
      "Stacking model RMSE =  1.677\n"
     ]
    }
   ],
   "source": [
    "#Stacking using LinearRegression as the meta-model\n",
    "en=StackingRegressor(estimators = [('r',rf_model),('ada',ada_model),('gb',gr_model), ('xgb', xg_model)],\n",
    "                     final_estimator=LinearRegression(),                                          \n",
    "                    cv = KFold(n_splits = 5, shuffle = True, random_state=1))\n",
    "en.fit(X,y)\n",
    "print(\"Stacking model RMSE = \", round(np.sqrt(mean_squared_error(en.predict(X_test),y_test)),3))"
   ]
  },
  {
   "cell_type": "code",
   "execution_count": 37,
   "id": "65a2eac8",
   "metadata": {},
   "outputs": [
    {
     "data": {
      "text/plain": [
       "array([0.13343933, 0.66699707, 0.01510011, 0.1963068 ])"
      ]
     },
     "execution_count": 37,
     "metadata": {},
     "output_type": "execute_result"
    }
   ],
   "source": [
    "en.final_estimator_.coef_"
   ]
  },
  {
   "cell_type": "code",
   "execution_count": 34,
   "id": "e0354805",
   "metadata": {},
   "outputs": [
    {
     "name": "stdout",
     "output_type": "stream",
     "text": [
      "Stacking model RMSE =  1.666\n"
     ]
    }
   ],
   "source": [
    "#Meta stacking w/ voting and ensemble\n",
    "metastack=StackingRegressor(estimators = [('r',rf_model),('ada',ada_model),('gb',gr_model), ('xgb', xg_model), ('voting', en1), ('stack', en)],\n",
    "                     final_estimator=LinearRegression(),                                          \n",
    "                    cv = KFold(n_splits = 5, shuffle = True, random_state=1))\n",
    "metastack.fit(X,y)\n",
    "print(\"Stacking model RMSE = \", round(np.sqrt(mean_squared_error(metastack.predict(X_test),y_test)),3))"
   ]
  },
  {
   "cell_type": "code",
   "execution_count": 38,
   "id": "b5b3ff8b",
   "metadata": {},
   "outputs": [
    {
     "data": {
      "text/plain": [
       "array([-0.2732351 ,  0.37710817, -0.22546035, -0.11494021,  0.62544742,\n",
       "        0.62544742])"
      ]
     },
     "execution_count": 38,
     "metadata": {},
     "output_type": "execute_result"
    }
   ],
   "source": [
    "metastack.final_estimator_.coef_"
   ]
  },
  {
   "cell_type": "code",
   "execution_count": 40,
   "id": "78bdc44d",
   "metadata": {},
   "outputs": [
    {
     "name": "stdout",
     "output_type": "stream",
     "text": [
      "Stacking model RMSE =  1.666\n"
     ]
    }
   ],
   "source": [
    "#Stacking using LinearRegression as the meta-model - including random forest\n",
    "enbag=StackingRegressor(estimators = [(\"bag\", bag_model),('r',rf_model),('ada',ada_model),('gb',gr_model), ('xgb', xg_model)],\n",
    "                     final_estimator=LinearRegression(),                                          \n",
    "                    cv = KFold(n_splits = 5, shuffle = True, random_state=1))\n",
    "enbag.fit(X,y)\n",
    "print(\"Stacking model RMSE = \", round(np.sqrt(mean_squared_error(enbag.predict(X_test),y_test)),3))"
   ]
  },
  {
   "cell_type": "code",
   "execution_count": 41,
   "id": "1be48ae1",
   "metadata": {},
   "outputs": [
    {
     "data": {
      "text/plain": [
       "array([ 0.25017897, -0.02305614,  0.62728714,  0.02471862,  0.13523876])"
      ]
     },
     "execution_count": 41,
     "metadata": {},
     "output_type": "execute_result"
    }
   ],
   "source": [
    "enbag.final_estimator_.coef_"
   ]
  },
  {
   "cell_type": "code",
   "execution_count": 25,
   "id": "b0998f99",
   "metadata": {},
   "outputs": [
    {
     "name": "stdout",
     "output_type": "stream",
     "text": [
      "Stacking model RMSE =  1.667\n"
     ]
    }
   ],
   "source": [
    "#Stacking using LinearRegression as the meta-model - excluding random forest\n",
    "enbag2=StackingRegressor(estimators = [(\"bag\", bag_model),('ada',ada_model),('gb',gr_model), ('xgb', xg_model)],\n",
    "                     final_estimator=LinearRegression(),                                          \n",
    "                    cv = KFold(n_splits = 5, shuffle = True, random_state=1))\n",
    "enbag2.fit(X,y)\n",
    "print(\"Stacking model RMSE = \", round(np.sqrt(mean_squared_error(enbag2.predict(X_test),y_test)),3))"
   ]
  },
  {
   "cell_type": "code",
   "execution_count": 26,
   "id": "fb450973",
   "metadata": {},
   "outputs": [
    {
     "data": {
      "text/plain": [
       "array([0.24090916, 0.62301228, 0.01744543, 0.13323205])"
      ]
     },
     "execution_count": 26,
     "metadata": {},
     "output_type": "execute_result"
    }
   ],
   "source": [
    "enbag2.final_estimator_.coef_"
   ]
  },
  {
   "cell_type": "markdown",
   "id": "187dfef4",
   "metadata": {},
   "source": [
    "# Sub-Models Analysis"
   ]
  },
  {
   "cell_type": "markdown",
   "id": "3ce33661",
   "metadata": {},
   "source": [
    "Are there predictors that are more important across all 4 models in the final ensemble?"
   ]
  },
  {
   "cell_type": "markdown",
   "id": "9156b434",
   "metadata": {},
   "source": [
    "### AdaBoost model"
   ]
  },
  {
   "cell_type": "code",
   "execution_count": 35,
   "id": "4a0b919d",
   "metadata": {},
   "outputs": [],
   "source": [
    "ada_df = pd.DataFrame({'Predictor': X.columns, 'Feature Importance': ada_model.feature_importances_})"
   ]
  },
  {
   "cell_type": "code",
   "execution_count": 37,
   "id": "3e2684ba",
   "metadata": {
    "scrolled": false
   },
   "outputs": [
    {
     "data": {
      "text/html": [
       "<div>\n",
       "<style scoped>\n",
       "    .dataframe tbody tr th:only-of-type {\n",
       "        vertical-align: middle;\n",
       "    }\n",
       "\n",
       "    .dataframe tbody tr th {\n",
       "        vertical-align: top;\n",
       "    }\n",
       "\n",
       "    .dataframe thead th {\n",
       "        text-align: right;\n",
       "    }\n",
       "</style>\n",
       "<table border=\"1\" class=\"dataframe\">\n",
       "  <thead>\n",
       "    <tr style=\"text-align: right;\">\n",
       "      <th></th>\n",
       "      <th>Predictor</th>\n",
       "      <th>Feature Importance</th>\n",
       "    </tr>\n",
       "  </thead>\n",
       "  <tbody>\n",
       "    <tr>\n",
       "      <th>8</th>\n",
       "      <td>hiv_aids</td>\n",
       "      <td>0.625349</td>\n",
       "    </tr>\n",
       "    <tr>\n",
       "      <th>11</th>\n",
       "      <td>income_composition_of_resources</td>\n",
       "      <td>0.171578</td>\n",
       "    </tr>\n",
       "    <tr>\n",
       "      <th>12</th>\n",
       "      <td>schooling</td>\n",
       "      <td>0.041872</td>\n",
       "    </tr>\n",
       "    <tr>\n",
       "      <th>10</th>\n",
       "      <td>thinness_5_9_years</td>\n",
       "      <td>0.029755</td>\n",
       "    </tr>\n",
       "    <tr>\n",
       "      <th>6</th>\n",
       "      <td>total_expenditure</td>\n",
       "      <td>0.025411</td>\n",
       "    </tr>\n",
       "    <tr>\n",
       "      <th>4</th>\n",
       "      <td>bmi</td>\n",
       "      <td>0.022561</td>\n",
       "    </tr>\n",
       "    <tr>\n",
       "      <th>0</th>\n",
       "      <td>alcohol</td>\n",
       "      <td>0.018904</td>\n",
       "    </tr>\n",
       "    <tr>\n",
       "      <th>9</th>\n",
       "      <td>thinness_1_19_years</td>\n",
       "      <td>0.016090</td>\n",
       "    </tr>\n",
       "    <tr>\n",
       "      <th>3</th>\n",
       "      <td>measles</td>\n",
       "      <td>0.013438</td>\n",
       "    </tr>\n",
       "    <tr>\n",
       "      <th>7</th>\n",
       "      <td>diphtheria</td>\n",
       "      <td>0.009770</td>\n",
       "    </tr>\n",
       "    <tr>\n",
       "      <th>5</th>\n",
       "      <td>polio</td>\n",
       "      <td>0.009578</td>\n",
       "    </tr>\n",
       "    <tr>\n",
       "      <th>1</th>\n",
       "      <td>percentage_expenditure</td>\n",
       "      <td>0.008542</td>\n",
       "    </tr>\n",
       "    <tr>\n",
       "      <th>2</th>\n",
       "      <td>hepatitis_b</td>\n",
       "      <td>0.006573</td>\n",
       "    </tr>\n",
       "    <tr>\n",
       "      <th>13</th>\n",
       "      <td>status_Developed</td>\n",
       "      <td>0.000337</td>\n",
       "    </tr>\n",
       "    <tr>\n",
       "      <th>14</th>\n",
       "      <td>status_Developing</td>\n",
       "      <td>0.000242</td>\n",
       "    </tr>\n",
       "  </tbody>\n",
       "</table>\n",
       "</div>"
      ],
      "text/plain": [
       "                          Predictor  Feature Importance\n",
       "8                          hiv_aids            0.625349\n",
       "11  income_composition_of_resources            0.171578\n",
       "12                        schooling            0.041872\n",
       "10               thinness_5_9_years            0.029755\n",
       "6                 total_expenditure            0.025411\n",
       "4                               bmi            0.022561\n",
       "0                           alcohol            0.018904\n",
       "9               thinness_1_19_years            0.016090\n",
       "3                           measles            0.013438\n",
       "7                        diphtheria            0.009770\n",
       "5                             polio            0.009578\n",
       "1            percentage_expenditure            0.008542\n",
       "2                       hepatitis_b            0.006573\n",
       "13                 status_Developed            0.000337\n",
       "14                status_Developing            0.000242"
      ]
     },
     "execution_count": 37,
     "metadata": {},
     "output_type": "execute_result"
    }
   ],
   "source": [
    "ada_df.sort_values(by='Feature Importance', ascending=False)"
   ]
  },
  {
   "cell_type": "markdown",
   "id": "8038bf93",
   "metadata": {},
   "source": [
    "### Gradient Boost Model"
   ]
  },
  {
   "cell_type": "code",
   "execution_count": 39,
   "id": "07ddcdca",
   "metadata": {},
   "outputs": [
    {
     "data": {
      "text/html": [
       "<div>\n",
       "<style scoped>\n",
       "    .dataframe tbody tr th:only-of-type {\n",
       "        vertical-align: middle;\n",
       "    }\n",
       "\n",
       "    .dataframe tbody tr th {\n",
       "        vertical-align: top;\n",
       "    }\n",
       "\n",
       "    .dataframe thead th {\n",
       "        text-align: right;\n",
       "    }\n",
       "</style>\n",
       "<table border=\"1\" class=\"dataframe\">\n",
       "  <thead>\n",
       "    <tr style=\"text-align: right;\">\n",
       "      <th></th>\n",
       "      <th>Predictor</th>\n",
       "      <th>Feature Importance</th>\n",
       "    </tr>\n",
       "  </thead>\n",
       "  <tbody>\n",
       "    <tr>\n",
       "      <th>8</th>\n",
       "      <td>hiv_aids</td>\n",
       "      <td>0.612581</td>\n",
       "    </tr>\n",
       "    <tr>\n",
       "      <th>11</th>\n",
       "      <td>income_composition_of_resources</td>\n",
       "      <td>0.188971</td>\n",
       "    </tr>\n",
       "    <tr>\n",
       "      <th>12</th>\n",
       "      <td>schooling</td>\n",
       "      <td>0.041898</td>\n",
       "    </tr>\n",
       "    <tr>\n",
       "      <th>10</th>\n",
       "      <td>thinness_5_9_years</td>\n",
       "      <td>0.040953</td>\n",
       "    </tr>\n",
       "    <tr>\n",
       "      <th>4</th>\n",
       "      <td>bmi</td>\n",
       "      <td>0.022849</td>\n",
       "    </tr>\n",
       "    <tr>\n",
       "      <th>9</th>\n",
       "      <td>thinness_1_19_years</td>\n",
       "      <td>0.017106</td>\n",
       "    </tr>\n",
       "    <tr>\n",
       "      <th>6</th>\n",
       "      <td>total_expenditure</td>\n",
       "      <td>0.016632</td>\n",
       "    </tr>\n",
       "    <tr>\n",
       "      <th>3</th>\n",
       "      <td>measles</td>\n",
       "      <td>0.015232</td>\n",
       "    </tr>\n",
       "    <tr>\n",
       "      <th>0</th>\n",
       "      <td>alcohol</td>\n",
       "      <td>0.014386</td>\n",
       "    </tr>\n",
       "    <tr>\n",
       "      <th>5</th>\n",
       "      <td>polio</td>\n",
       "      <td>0.011266</td>\n",
       "    </tr>\n",
       "    <tr>\n",
       "      <th>7</th>\n",
       "      <td>diphtheria</td>\n",
       "      <td>0.007317</td>\n",
       "    </tr>\n",
       "    <tr>\n",
       "      <th>1</th>\n",
       "      <td>percentage_expenditure</td>\n",
       "      <td>0.006601</td>\n",
       "    </tr>\n",
       "    <tr>\n",
       "      <th>2</th>\n",
       "      <td>hepatitis_b</td>\n",
       "      <td>0.003007</td>\n",
       "    </tr>\n",
       "    <tr>\n",
       "      <th>13</th>\n",
       "      <td>status_Developed</td>\n",
       "      <td>0.001028</td>\n",
       "    </tr>\n",
       "    <tr>\n",
       "      <th>14</th>\n",
       "      <td>status_Developing</td>\n",
       "      <td>0.000172</td>\n",
       "    </tr>\n",
       "  </tbody>\n",
       "</table>\n",
       "</div>"
      ],
      "text/plain": [
       "                          Predictor  Feature Importance\n",
       "8                          hiv_aids            0.612581\n",
       "11  income_composition_of_resources            0.188971\n",
       "12                        schooling            0.041898\n",
       "10               thinness_5_9_years            0.040953\n",
       "4                               bmi            0.022849\n",
       "9               thinness_1_19_years            0.017106\n",
       "6                 total_expenditure            0.016632\n",
       "3                           measles            0.015232\n",
       "0                           alcohol            0.014386\n",
       "5                             polio            0.011266\n",
       "7                        diphtheria            0.007317\n",
       "1            percentage_expenditure            0.006601\n",
       "2                       hepatitis_b            0.003007\n",
       "13                 status_Developed            0.001028\n",
       "14                status_Developing            0.000172"
      ]
     },
     "execution_count": 39,
     "metadata": {},
     "output_type": "execute_result"
    }
   ],
   "source": [
    "gr_df = pd.DataFrame({'Predictor': X.columns, 'Feature Importance': gr_model.feature_importances_})\n",
    "gr_df.sort_values(by='Feature Importance', ascending=False)"
   ]
  },
  {
   "cell_type": "markdown",
   "id": "7c7b46b6",
   "metadata": {},
   "source": [
    "### XG Boost Model"
   ]
  },
  {
   "cell_type": "code",
   "execution_count": 41,
   "id": "469f2fae",
   "metadata": {},
   "outputs": [
    {
     "data": {
      "text/html": [
       "<div>\n",
       "<style scoped>\n",
       "    .dataframe tbody tr th:only-of-type {\n",
       "        vertical-align: middle;\n",
       "    }\n",
       "\n",
       "    .dataframe tbody tr th {\n",
       "        vertical-align: top;\n",
       "    }\n",
       "\n",
       "    .dataframe thead th {\n",
       "        text-align: right;\n",
       "    }\n",
       "</style>\n",
       "<table border=\"1\" class=\"dataframe\">\n",
       "  <thead>\n",
       "    <tr style=\"text-align: right;\">\n",
       "      <th></th>\n",
       "      <th>Predictor</th>\n",
       "      <th>Feature Importance</th>\n",
       "    </tr>\n",
       "  </thead>\n",
       "  <tbody>\n",
       "    <tr>\n",
       "      <th>8</th>\n",
       "      <td>hiv_aids</td>\n",
       "      <td>0.723722</td>\n",
       "    </tr>\n",
       "    <tr>\n",
       "      <th>11</th>\n",
       "      <td>income_composition_of_resources</td>\n",
       "      <td>0.091084</td>\n",
       "    </tr>\n",
       "    <tr>\n",
       "      <th>10</th>\n",
       "      <td>thinness_5_9_years</td>\n",
       "      <td>0.056881</td>\n",
       "    </tr>\n",
       "    <tr>\n",
       "      <th>12</th>\n",
       "      <td>schooling</td>\n",
       "      <td>0.030306</td>\n",
       "    </tr>\n",
       "    <tr>\n",
       "      <th>13</th>\n",
       "      <td>status_Developed</td>\n",
       "      <td>0.024005</td>\n",
       "    </tr>\n",
       "    <tr>\n",
       "      <th>4</th>\n",
       "      <td>bmi</td>\n",
       "      <td>0.015292</td>\n",
       "    </tr>\n",
       "    <tr>\n",
       "      <th>9</th>\n",
       "      <td>thinness_1_19_years</td>\n",
       "      <td>0.014556</td>\n",
       "    </tr>\n",
       "    <tr>\n",
       "      <th>5</th>\n",
       "      <td>polio</td>\n",
       "      <td>0.010498</td>\n",
       "    </tr>\n",
       "    <tr>\n",
       "      <th>7</th>\n",
       "      <td>diphtheria</td>\n",
       "      <td>0.009695</td>\n",
       "    </tr>\n",
       "    <tr>\n",
       "      <th>6</th>\n",
       "      <td>total_expenditure</td>\n",
       "      <td>0.008952</td>\n",
       "    </tr>\n",
       "    <tr>\n",
       "      <th>3</th>\n",
       "      <td>measles</td>\n",
       "      <td>0.005874</td>\n",
       "    </tr>\n",
       "    <tr>\n",
       "      <th>2</th>\n",
       "      <td>hepatitis_b</td>\n",
       "      <td>0.004047</td>\n",
       "    </tr>\n",
       "    <tr>\n",
       "      <th>0</th>\n",
       "      <td>alcohol</td>\n",
       "      <td>0.002718</td>\n",
       "    </tr>\n",
       "    <tr>\n",
       "      <th>1</th>\n",
       "      <td>percentage_expenditure</td>\n",
       "      <td>0.002371</td>\n",
       "    </tr>\n",
       "    <tr>\n",
       "      <th>14</th>\n",
       "      <td>status_Developing</td>\n",
       "      <td>0.000000</td>\n",
       "    </tr>\n",
       "  </tbody>\n",
       "</table>\n",
       "</div>"
      ],
      "text/plain": [
       "                          Predictor  Feature Importance\n",
       "8                          hiv_aids            0.723722\n",
       "11  income_composition_of_resources            0.091084\n",
       "10               thinness_5_9_years            0.056881\n",
       "12                        schooling            0.030306\n",
       "13                 status_Developed            0.024005\n",
       "4                               bmi            0.015292\n",
       "9               thinness_1_19_years            0.014556\n",
       "5                             polio            0.010498\n",
       "7                        diphtheria            0.009695\n",
       "6                 total_expenditure            0.008952\n",
       "3                           measles            0.005874\n",
       "2                       hepatitis_b            0.004047\n",
       "0                           alcohol            0.002718\n",
       "1            percentage_expenditure            0.002371\n",
       "14                status_Developing            0.000000"
      ]
     },
     "execution_count": 41,
     "metadata": {},
     "output_type": "execute_result"
    }
   ],
   "source": [
    "xg_df = pd.DataFrame({'Predictor': X.columns, 'Feature Importance': xg_model.feature_importances_})\n",
    "xg_df.sort_values(by='Feature Importance', ascending=False)"
   ]
  },
  {
   "cell_type": "markdown",
   "id": "47e11d38",
   "metadata": {},
   "source": [
    "### Bagging Model"
   ]
  },
  {
   "cell_type": "code",
   "execution_count": 42,
   "id": "8e882384",
   "metadata": {},
   "outputs": [],
   "source": [
    "bag_feature_importances = np.mean([tree.feature_importances_ for tree in bag_model.estimators_], axis=0)"
   ]
  },
  {
   "cell_type": "code",
   "execution_count": 43,
   "id": "77a5c976",
   "metadata": {},
   "outputs": [
    {
     "data": {
      "text/html": [
       "<div>\n",
       "<style scoped>\n",
       "    .dataframe tbody tr th:only-of-type {\n",
       "        vertical-align: middle;\n",
       "    }\n",
       "\n",
       "    .dataframe tbody tr th {\n",
       "        vertical-align: top;\n",
       "    }\n",
       "\n",
       "    .dataframe thead th {\n",
       "        text-align: right;\n",
       "    }\n",
       "</style>\n",
       "<table border=\"1\" class=\"dataframe\">\n",
       "  <thead>\n",
       "    <tr style=\"text-align: right;\">\n",
       "      <th></th>\n",
       "      <th>Predictor</th>\n",
       "      <th>Feature Importance</th>\n",
       "    </tr>\n",
       "  </thead>\n",
       "  <tbody>\n",
       "    <tr>\n",
       "      <th>0</th>\n",
       "      <td>alcohol</td>\n",
       "      <td>0.085485</td>\n",
       "    </tr>\n",
       "    <tr>\n",
       "      <th>8</th>\n",
       "      <td>hiv_aids</td>\n",
       "      <td>0.079951</td>\n",
       "    </tr>\n",
       "    <tr>\n",
       "      <th>3</th>\n",
       "      <td>measles</td>\n",
       "      <td>0.077401</td>\n",
       "    </tr>\n",
       "    <tr>\n",
       "      <th>2</th>\n",
       "      <td>hepatitis_b</td>\n",
       "      <td>0.073283</td>\n",
       "    </tr>\n",
       "    <tr>\n",
       "      <th>9</th>\n",
       "      <td>thinness_1_19_years</td>\n",
       "      <td>0.071667</td>\n",
       "    </tr>\n",
       "    <tr>\n",
       "      <th>1</th>\n",
       "      <td>percentage_expenditure</td>\n",
       "      <td>0.069741</td>\n",
       "    </tr>\n",
       "    <tr>\n",
       "      <th>10</th>\n",
       "      <td>thinness_5_9_years</td>\n",
       "      <td>0.067867</td>\n",
       "    </tr>\n",
       "    <tr>\n",
       "      <th>4</th>\n",
       "      <td>bmi</td>\n",
       "      <td>0.064424</td>\n",
       "    </tr>\n",
       "    <tr>\n",
       "      <th>12</th>\n",
       "      <td>schooling</td>\n",
       "      <td>0.063753</td>\n",
       "    </tr>\n",
       "    <tr>\n",
       "      <th>5</th>\n",
       "      <td>polio</td>\n",
       "      <td>0.063367</td>\n",
       "    </tr>\n",
       "    <tr>\n",
       "      <th>13</th>\n",
       "      <td>status_Developed</td>\n",
       "      <td>0.063110</td>\n",
       "    </tr>\n",
       "    <tr>\n",
       "      <th>6</th>\n",
       "      <td>total_expenditure</td>\n",
       "      <td>0.061873</td>\n",
       "    </tr>\n",
       "    <tr>\n",
       "      <th>7</th>\n",
       "      <td>diphtheria</td>\n",
       "      <td>0.056973</td>\n",
       "    </tr>\n",
       "    <tr>\n",
       "      <th>14</th>\n",
       "      <td>status_Developing</td>\n",
       "      <td>0.053691</td>\n",
       "    </tr>\n",
       "    <tr>\n",
       "      <th>11</th>\n",
       "      <td>income_composition_of_resources</td>\n",
       "      <td>0.047413</td>\n",
       "    </tr>\n",
       "  </tbody>\n",
       "</table>\n",
       "</div>"
      ],
      "text/plain": [
       "                          Predictor  Feature Importance\n",
       "0                           alcohol            0.085485\n",
       "8                          hiv_aids            0.079951\n",
       "3                           measles            0.077401\n",
       "2                       hepatitis_b            0.073283\n",
       "9               thinness_1_19_years            0.071667\n",
       "1            percentage_expenditure            0.069741\n",
       "10               thinness_5_9_years            0.067867\n",
       "4                               bmi            0.064424\n",
       "12                        schooling            0.063753\n",
       "5                             polio            0.063367\n",
       "13                 status_Developed            0.063110\n",
       "6                 total_expenditure            0.061873\n",
       "7                        diphtheria            0.056973\n",
       "14                status_Developing            0.053691\n",
       "11  income_composition_of_resources            0.047413"
      ]
     },
     "execution_count": 43,
     "metadata": {},
     "output_type": "execute_result"
    }
   ],
   "source": [
    "bag_df = pd.DataFrame({'Predictor': X.columns, 'Feature Importance': bag_feature_importances})\n",
    "bag_df.sort_values(by='Feature Importance', ascending=False)"
   ]
  },
  {
   "cell_type": "markdown",
   "id": "ac7d720d",
   "metadata": {},
   "source": [
    "# Takeaways"
   ]
  },
  {
   "cell_type": "markdown",
   "id": "b58d6dd7",
   "metadata": {},
   "source": [
    "In 3 of the 4 sub-models, HIV/AIDS stood out as the most crucial feature. Additionally, ICOR, schooling, and thinness were consistently present in the top 4 features for 3 out of 4 sub-models and held significant importance in the ensemble's weight.\n",
    "\n",
    "Governments, NGOs, and IGOs should prioritize efforts to reduce the spread of HIV/AIDS by enhancing sexual education and increasing access to contraceptives. In addition to this, our stakeholders should concentrate on improving economic development, enhancing educational opportunities, and addressing issues related to malnutrition."
   ]
  }
 ],
 "metadata": {
  "kernelspec": {
   "display_name": "Python 3 (ipykernel)",
   "language": "python",
   "name": "python3"
  },
  "language_info": {
   "codemirror_mode": {
    "name": "ipython",
    "version": 3
   },
   "file_extension": ".py",
   "mimetype": "text/x-python",
   "name": "python",
   "nbconvert_exporter": "python",
   "pygments_lexer": "ipython3",
   "version": "3.11.4"
  }
 },
 "nbformat": 4,
 "nbformat_minor": 5
}
